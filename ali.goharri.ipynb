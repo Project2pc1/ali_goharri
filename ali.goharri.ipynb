{
 "cells": [
  {
   "cell_type": "code",
   "execution_count": 1,
   "id": "93e3e82c-478c-4ab7-b836-808162386490",
   "metadata": {
    "tags": []
   },
   "outputs": [
    {
     "name": "stdout",
     "output_type": "stream",
     "text": [
      "ali\n"
     ]
    }
   ],
   "source": [
    "a=\"ali\"\n",
    "print (a)\n",
    "\n",
    "# ایجاد متغیر و نمایش"
   ]
  },
  {
   "cell_type": "code",
   "execution_count": 2,
   "id": "fb51eae4-942b-49be-a606-ae3dc8223a44",
   "metadata": {
    "tags": []
   },
   "outputs": [
    {
     "name": "stdout",
     "output_type": "stream",
     "text": [
      "gohari\n"
     ]
    }
   ],
   "source": [
    "a=\"gohari\"\n",
    "print (a)\n",
    "\n",
    "# ایجاد متغیر و نمایش"
   ]
  },
  {
   "cell_type": "code",
   "execution_count": 3,
   "id": "a482c41c-d213-4604-81c9-7f23c7e017eb",
   "metadata": {
    "tags": []
   },
   "outputs": [
    {
     "name": "stdout",
     "output_type": "stream",
     "text": [
      "True\n"
     ]
    }
   ],
   "source": [
    "number = 10\n",
    "print(number > 5 and number < 12)\n",
    "\n",
    "#عملگرهای منطقی"
   ]
  },
  {
   "cell_type": "code",
   "execution_count": 4,
   "id": "ad344f24-5b49-4fa0-ba88-6eefb41a06eb",
   "metadata": {
    "tags": []
   },
   "outputs": [
    {
     "name": "stdout",
     "output_type": "stream",
     "text": [
      "False\n"
     ]
    }
   ],
   "source": [
    "number = 10\n",
    "print(number > 12 or number < 9)\n",
    "\n",
    "#عملگرهای منطقی"
   ]
  },
  {
   "cell_type": "code",
   "execution_count": 5,
   "id": "64a40e6e-2e1e-48ce-b199-21ebaa01b5d8",
   "metadata": {
    "tags": []
   },
   "outputs": [
    {
     "name": "stdout",
     "output_type": "stream",
     "text": [
      "6\n"
     ]
    }
   ],
   "source": [
    "a=3\n",
    "b=7\n",
    "print (a+3)\n",
    "\n",
    "#عملگرهای ریاضی"
   ]
  },
  {
   "cell_type": "code",
   "execution_count": 6,
   "id": "11fd66c7-42eb-4b9a-8002-ca449778cc69",
   "metadata": {
    "tags": []
   },
   "outputs": [
    {
     "name": "stdout",
     "output_type": "stream",
     "text": [
      "11\n"
     ]
    }
   ],
   "source": [
    "a=15\n",
    "b=4\n",
    "print (a-b)\n",
    "\n",
    "#عملگرهای ریاضی"
   ]
  },
  {
   "cell_type": "code",
   "execution_count": 7,
   "id": "322371c4-49f8-48ac-b594-4e004aea13b0",
   "metadata": {
    "tags": []
   },
   "outputs": [
    {
     "data": {
      "text/plain": [
       "True"
      ]
     },
     "execution_count": 7,
     "metadata": {},
     "output_type": "execute_result"
    }
   ],
   "source": [
    "a=12\n",
    "b=8\n",
    "a>=b\n",
    "\n",
    "#عملگرهای مقایسه ای"
   ]
  },
  {
   "cell_type": "code",
   "execution_count": 8,
   "id": "85a38c82-74db-4703-81cc-18c40b4878e4",
   "metadata": {
    "tags": []
   },
   "outputs": [
    {
     "data": {
      "text/plain": [
       "False"
      ]
     },
     "execution_count": 8,
     "metadata": {},
     "output_type": "execute_result"
    }
   ],
   "source": [
    "a=10\n",
    "b=5\n",
    "a<=b\n",
    "\n",
    "#عملگرهای مقایسه ای"
   ]
  },
  {
   "cell_type": "code",
   "execution_count": 9,
   "id": "90e6009a-49b2-4ac6-a1e3-d83397463d0a",
   "metadata": {
    "tags": []
   },
   "outputs": [
    {
     "name": "stdout",
     "output_type": "stream",
     "text": [
      "my name is ali\n"
     ]
    }
   ],
   "source": [
    "a=\"my name is ali\"\n",
    "print(a)\n",
    "\n",
    "#ایجاد رشته"
   ]
  },
  {
   "cell_type": "code",
   "execution_count": 10,
   "id": "6038945f-0022-4d0d-8fb8-344313690a94",
   "metadata": {
    "tags": []
   },
   "outputs": [
    {
     "name": "stdout",
     "output_type": "stream",
     "text": [
      "{'name': 'ali', 'age': 23}\n"
     ]
    }
   ],
   "source": [
    "a = {'name':'ali', 'age':23}\n",
    "print(a)\n",
    "\n",
    "#ایجاد دیکشنری"
   ]
  },
  {
   "cell_type": "code",
   "execution_count": 11,
   "id": "befda9b4-6b72-4f4c-bcf9-888c3c74e5ce",
   "metadata": {
    "tags": []
   },
   "outputs": [
    {
     "name": "stdout",
     "output_type": "stream",
     "text": [
      "(1, 'Hello', 3.4)\n"
     ]
    }
   ],
   "source": [
    "a= (1, \"Hello\", 3.4)\n",
    "print(a)\n",
    "\n",
    "#ایجاد تاپل"
   ]
  },
  {
   "cell_type": "code",
   "execution_count": 12,
   "id": "6821f33f-3f47-4703-9ff2-645efbc134b5",
   "metadata": {
    "tags": []
   },
   "outputs": [
    {
     "name": "stdout",
     "output_type": "stream",
     "text": [
      "ali\n"
     ]
    }
   ],
   "source": [
    "a= [\"sara\", \"ali\", \"amir\", \"roya\" ,\"ehsan\"]\n",
    "print(a[1] )\n",
    "\n",
    "#ایجاد لیست"
   ]
  },
  {
   "cell_type": "code",
   "execution_count": 13,
   "id": "e48a5385-ec1d-40da-9e7c-6233f2d3bd51",
   "metadata": {
    "tags": []
   },
   "outputs": [
    {
     "name": "stdout",
     "output_type": "stream",
     "text": [
      "3 is a positive number.\n"
     ]
    }
   ],
   "source": [
    "a= 3\n",
    "if a>0:\n",
    "    print (a,\"is a positive number.\")\n",
    "    \n",
    "#ایجاد عبارت شرطی"
   ]
  },
  {
   "cell_type": "code",
   "execution_count": 14,
   "id": "28530dc3-70d1-4cdb-bf45-d5ba029a1987",
   "metadata": {
    "tags": []
   },
   "outputs": [
    {
     "name": "stdout",
     "output_type": "stream",
     "text": [
      "apple\n",
      "banana\n",
      "kiwi\n"
     ]
    }
   ],
   "source": [
    "a= [\"apple\", \"banana\", \"kiwi\"]\n",
    "for x in a:\n",
    "    print(x)\n",
    "\n",
    "#عملگرهای تکرار"
   ]
  },
  {
   "cell_type": "code",
   "execution_count": 19,
   "id": "358613db-147b-417c-b2da-e52a880abcf4",
   "metadata": {
    "tags": []
   },
   "outputs": [
    {
     "name": "stdout",
     "output_type": "stream",
     "text": [
      "Random number: 2\n",
      "Random number: 41\n",
      "Random number: 98\n"
     ]
    }
   ],
   "source": [
    "import random\n",
    "print('Random number:', random.randint(0,10))\n",
    "print('Random number:', random.randint(0,50))\n",
    "print('Random number:', random.randint(0,100))\n",
    "\n",
    "#استفاده از کتابخانه رندوم"
   ]
  },
  {
   "cell_type": "code",
   "execution_count": 42,
   "id": "ab66943e-c0c5-4d28-ae76-4dda38b2a3f7",
   "metadata": {
    "tags": []
   },
   "outputs": [
    {
     "name": "stdin",
     "output_type": "stream",
     "text": [
      "نام کاربری خود را وارد کنید hs\n",
      "رمز عبور خود را وارد کنید 22\n"
     ]
    },
    {
     "name": "stdout",
     "output_type": "stream",
     "text": [
      "نام کاربری و رمز عبور اشتباه است\n"
     ]
    }
   ],
   "source": [
    "username = (\"ali\")\n",
    "password = (3333)\n",
    "\n",
    "username = input(\"نام کاربری خود را وارد کنید\")\n",
    "password = input(\"رمز عبور خود را وارد کنید\")\n",
    "\n",
    "if username ==(\"ali\") and password ==(3333):\n",
    "        print (\"welcome \")\n",
    "\n",
    "else :\n",
    "     print(\"نام کاربری و رمز عبور اشتباه است\")\n",
    "        \n",
    "        \n",
    "#ادغام چند مثال "
   ]
  },
  {
   "cell_type": "code",
   "execution_count": 47,
   "id": "2d13e458-e5e2-4397-bfb2-5673f54ed112",
   "metadata": {
    "tags": []
   },
   "outputs": [
    {
     "name": "stdout",
     "output_type": "stream",
     "text": [
      "مردود شده اید\n"
     ]
    }
   ],
   "source": [
    "num1=(10)\n",
    "num2=(10)\n",
    "num3=(10)\n",
    "num4=(19)\n",
    "a=(num1+num2+num3+num4)\n",
    "if a>=60:\n",
    "    print(\"قبول شده اید \")\n",
    "else:\n",
    "    print(\"مردود شده اید\")\n",
    "    \n",
    "#ادغام چند مثال "
   ]
  },
  {
   "cell_type": "code",
   "execution_count": 52,
   "id": "8c338d41-3998-4fc5-86ac-22ecae38793d",
   "metadata": {
    "tags": []
   },
   "outputs": [
    {
     "name": "stdout",
     "output_type": "stream",
     "text": [
      "sara 18\n",
      "ali 15\n",
      "amir 17\n",
      "roya 16\n",
      "ehsan 12\n"
     ]
    }
   ],
   "source": [
    "a= [\"sara\", \"ali\", \"amir\", \"roya\" ,\"ehsan\"]\n",
    "b= [18,15,17,16,12]\n",
    "\n",
    "print(a[0],b[0] )\n",
    "print(a[1],b[1] )\n",
    "print(a[2],b[2] )\n",
    "print(a[3],b[3] )\n",
    "print(a[4],b[4] )\n",
    "\n",
    "#ادغام چند مثال "
   ]
  },
  {
   "cell_type": "code",
   "execution_count": 65,
   "id": "b0a14122-43bf-4445-b182-6167a27647fb",
   "metadata": {
    "tags": []
   },
   "outputs": [
    {
     "name": "stdout",
     "output_type": "stream",
     "text": [
      "sara 15\n",
      "ali 12\n",
      "amir 17\n",
      "roya 3\n",
      "ehsan 14\n"
     ]
    }
   ],
   "source": [
    "import random\n",
    "a= [\"sara\", \"ali\", \"amir\", \"roya\" ,\"ehsan\"]\n",
    "b=[]\n",
    "print(a[0],random.randint(0,20))\n",
    "print(a[1],random.randint(0,20))\n",
    "print(a[2],random.randint(0,20))\n",
    "print(a[3],random.randint(0,20))\n",
    "print(a[4],random.randint(0,20))\n",
    "\n",
    "#ادغام چند مثال "
   ]
  },
  {
   "cell_type": "code",
   "execution_count": null,
   "id": "86d0c20a-7b3d-4ff1-b8fd-b00eaa123be5",
   "metadata": {},
   "outputs": [],
   "source": []
  },
  {
   "cell_type": "code",
   "execution_count": null,
   "id": "d0fdb675-7b52-4a89-8e03-37e8564af0c7",
   "metadata": {},
   "outputs": [],
   "source": []
  }
 ],
 "metadata": {
  "kernelspec": {
   "display_name": "Python 3 (ipykernel)",
   "language": "python",
   "name": "python3"
  },
  "language_info": {
   "codemirror_mode": {
    "name": "ipython",
    "version": 3
   },
   "file_extension": ".py",
   "mimetype": "text/x-python",
   "name": "python",
   "nbconvert_exporter": "python",
   "pygments_lexer": "ipython3",
   "version": "3.7.9"
  }
 },
 "nbformat": 4,
 "nbformat_minor": 5
}
